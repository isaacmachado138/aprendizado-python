{
  "nbformat": 4,
  "nbformat_minor": 0,
  "metadata": {
    "colab": {
      "provenance": [],
      "toc_visible": true,
      "authorship_tag": "ABX9TyOf5A6xG5Im75VOxgdbqOm5",
      "include_colab_link": true
    },
    "kernelspec": {
      "name": "python3",
      "display_name": "Python 3"
    },
    "language_info": {
      "name": "python"
    }
  },
  "cells": [
    {
      "cell_type": "markdown",
      "metadata": {
        "id": "view-in-github",
        "colab_type": "text"
      },
      "source": [
        "<a href=\"https://colab.research.google.com/github/isaacmachado138/aprendizado-python/blob/main/exemplo.ipynb\" target=\"_parent\"><img src=\"https://colab.research.google.com/assets/colab-badge.svg\" alt=\"Open In Colab\"/></a>"
      ]
    },
    {
      "cell_type": "markdown",
      "source": [
        "# **INTRODUÇÃO**"
      ],
      "metadata": {
        "id": "OPr4y2myGYsc"
      }
    },
    {
      "cell_type": "code",
      "execution_count": null,
      "metadata": {
        "colab": {
          "base_uri": "https://localhost:8080/"
        },
        "id": "6PA_vN6-JO2V",
        "outputId": "a93b2567-83e9-47d9-b3a3-8b47d32d3686"
      },
      "outputs": [
        {
          "output_type": "stream",
          "name": "stdout",
          "text": [
            "Digite o dia em que nasceu: 02\n",
            "Digite o mes em que nasceu: 06\n",
            "Digite o ano em que nasceu: 2003\n",
            "Nasci em 02/06 de 2003\n"
          ]
        }
      ],
      "source": [
        "dia = input(\"Digite o dia em que nasceu: \")\n",
        "mes = input(\"Digite o mes em que nasceu: \")\n",
        "ano = input(\"Digite o ano em que nasceu: \")\n",
        "print(\"Nasci em %s/%s de %s\" % (dia, mes, ano))"
      ]
    },
    {
      "cell_type": "code",
      "source": [
        "hora   = int(input(\"Digite a hora atual: \"))\n",
        "minuto = int(input(\"Digite o minuto atual: \"))\n",
        "print(\"Agora sao %i:%i\" % (hora, minuto))"
      ],
      "metadata": {
        "colab": {
          "base_uri": "https://localhost:8080/"
        },
        "id": "Qj2H9pIRMdxY",
        "outputId": "5a3ef711-5b72-4a2d-99f4-5883faf675ca"
      },
      "execution_count": null,
      "outputs": [
        {
          "output_type": "stream",
          "name": "stdout",
          "text": [
            "Digite a hora atual: 15\n",
            "Digite o minuto atual: 12\n",
            "Agora sao 15:12\n"
          ]
        }
      ]
    },
    {
      "cell_type": "code",
      "source": [
        "pi = 3.14159265358\n",
        "print(\"O valor de pi é %.5f\" % (pi))"
      ],
      "metadata": {
        "colab": {
          "base_uri": "https://localhost:8080/"
        },
        "id": "GLtmD5H5M2ft",
        "outputId": "2d74b1b8-00a2-4b45-b503-78160114b1ae"
      },
      "execution_count": null,
      "outputs": [
        {
          "output_type": "stream",
          "name": "stdout",
          "text": [
            "O valor de pi é 3.14159\n"
          ]
        }
      ]
    },
    {
      "cell_type": "markdown",
      "source": [
        " # **EXERCICIOS FOR**"
      ],
      "metadata": {
        "id": "Mi-tF9lIRQT5"
      }
    },
    {
      "cell_type": "markdown",
      "source": [
        "1 - Digitar uma string e verificar quantos caracteres ela tem sem usar o len e nem contar espaços"
      ],
      "metadata": {
        "id": "meeWc7G9Sabn"
      }
    },
    {
      "cell_type": "code",
      "source": [
        "string = input(\"Digite um texto: \")\n",
        "\n",
        "contador = 0\n",
        "for i in string:\n",
        "  if i != ' ':\n",
        "    contador += 1\n",
        "\n",
        "print(\"Essa string tem %i caracteres\" % contador)"
      ],
      "metadata": {
        "id": "_q4EZQStl0fU",
        "colab": {
          "base_uri": "https://localhost:8080/"
        },
        "outputId": "d110de74-3853-4b57-ebd4-184ad8413d23"
      },
      "execution_count": null,
      "outputs": [
        {
          "output_type": "stream",
          "name": "stdout",
          "text": [
            "Digite um texto: Teste Isaac 2 \n",
            "Essa string tem 11 caracteres\n"
          ]
        }
      ]
    },
    {
      "cell_type": "markdown",
      "source": [
        "2 - Receber um numero e contar fatorial dele"
      ],
      "metadata": {
        "id": "xVLPZv78SiM2"
      }
    },
    {
      "cell_type": "code",
      "source": [
        "num = int(input(\"Digite um numero: \"))\n",
        "res = num\n",
        "\n",
        "for i in range(num-1,0,-1):\n",
        "  resAnt = res\n",
        "  res *= i\n",
        "\n",
        "  print(\"%i * %i = %i\" % (resAnt,i, res))\n",
        "\n",
        "print(\"O resultado do fatorial de %i é %i\" % (num,res))"
      ],
      "metadata": {
        "colab": {
          "base_uri": "https://localhost:8080/"
        },
        "id": "vHDoDvq_Soto",
        "outputId": "d746daf2-6f34-4fcc-b785-17a083ecdc7b"
      },
      "execution_count": null,
      "outputs": [
        {
          "output_type": "stream",
          "name": "stdout",
          "text": [
            "Digite um numero: 5\n",
            "5 * 4 = 20\n",
            "20 * 3 = 60\n",
            "60 * 2 = 120\n",
            "120 * 1 = 120\n",
            "O resultado do fatorial de 5 é 120\n"
          ]
        }
      ]
    },
    {
      "cell_type": "markdown",
      "source": [
        "3 - Ler quantidade arbitraria de textos e concatenar numa unica string"
      ],
      "metadata": {
        "id": "5SxT4owUUyIz"
      }
    },
    {
      "cell_type": "code",
      "source": [
        "iNum = int(input(\"Digite o numero de leituras: \"))\n",
        "\n",
        "sTextoFinal = \"\"\n",
        "for i in range(iNum):\n",
        "  sTextoFinal += input(\"Digite uma string: \")\n",
        "\n",
        "print(\"O texto concatenado é %s \" % sTextoFinal)"
      ],
      "metadata": {
        "colab": {
          "base_uri": "https://localhost:8080/"
        },
        "id": "8Kk7kQGzU69G",
        "outputId": "00256c78-8c0e-4bf2-f6df-6590e7f51b8f"
      },
      "execution_count": null,
      "outputs": [
        {
          "output_type": "stream",
          "name": "stdout",
          "text": [
            "Digite o numero de leituras: 3\n",
            "Digite uma string: Olá\n",
            "Digite uma string:  Mundo\n",
            "Digite uma string: !\n",
            "O texto concatenado é Olá Mundo! \n"
          ]
        }
      ]
    },
    {
      "cell_type": "markdown",
      "source": [
        "4 - Ler um numero e exibir sua tabuada da divisão"
      ],
      "metadata": {
        "id": "P0umq8pJWacJ"
      }
    },
    {
      "cell_type": "code",
      "source": [
        "iNum = int(input(\"Digite um numero: \"))\n",
        "\n",
        "res = 0.0\n",
        "\n",
        "#para percorrer de 1 a 10\n",
        "for i in range(1,11):\n",
        "  res = iNum / i\n",
        "  print(\"%i / %i = %.1f\" % (iNum, i, res))"
      ],
      "metadata": {
        "colab": {
          "base_uri": "https://localhost:8080/"
        },
        "id": "3gmXQ4EDWd5S",
        "outputId": "9058c8e5-f494-4f2a-b259-1a27c003f495"
      },
      "execution_count": null,
      "outputs": [
        {
          "output_type": "stream",
          "name": "stdout",
          "text": [
            "Digite um numero: 7\n",
            "7 / 1 = 7.0\n",
            "7 / 2 = 3.5\n",
            "7 / 3 = 2.3\n",
            "7 / 4 = 1.8\n",
            "7 / 5 = 1.4\n",
            "7 / 6 = 1.2\n",
            "7 / 7 = 1.0\n",
            "7 / 8 = 0.9\n",
            "7 / 9 = 0.8\n",
            "7 / 10 = 0.7\n"
          ]
        }
      ]
    },
    {
      "cell_type": "markdown",
      "source": [
        "5 - Percorrer numeros de 3 até 30 e printar se o número é primo ou não"
      ],
      "metadata": {
        "id": "-5qo_h0KXczx"
      }
    },
    {
      "cell_type": "code",
      "source": [
        "#para percorrer de 3 ate 30\n",
        "for i in range(3,31):\n",
        "  ePrimo = True\n",
        "\n",
        "  for c in range(2,i):\n",
        "    if(i % c == 0):\n",
        "      ePrimo = False\n",
        "      break\n",
        "\n",
        "  if(ePrimo):\n",
        "    print(\"%i é primo\" % i)\n",
        "  else:\n",
        "    print(\"%i não é primo\" % i)\n"
      ],
      "metadata": {
        "colab": {
          "base_uri": "https://localhost:8080/"
        },
        "id": "ztIlZrfeXZO4",
        "outputId": "0a0334f1-3b58-4328-dfd9-c35df42c1548"
      },
      "execution_count": null,
      "outputs": [
        {
          "output_type": "stream",
          "name": "stdout",
          "text": [
            "3 é primo\n",
            "4 não é primo\n",
            "5 é primo\n",
            "6 não é primo\n",
            "7 é primo\n",
            "8 não é primo\n",
            "9 não é primo\n",
            "10 não é primo\n",
            "11 é primo\n",
            "12 não é primo\n",
            "13 é primo\n",
            "14 não é primo\n",
            "15 não é primo\n",
            "16 não é primo\n",
            "17 é primo\n",
            "18 não é primo\n",
            "19 é primo\n",
            "20 não é primo\n",
            "21 não é primo\n",
            "22 não é primo\n",
            "23 é primo\n",
            "24 não é primo\n",
            "25 não é primo\n",
            "26 não é primo\n",
            "27 não é primo\n",
            "28 não é primo\n",
            "29 é primo\n",
            "30 não é primo\n"
          ]
        }
      ]
    },
    {
      "cell_type": "markdown",
      "source": [
        "# **LISTAS**"
      ],
      "metadata": {
        "id": "i1vRK_v_GCFy"
      }
    },
    {
      "cell_type": "markdown",
      "source": [
        "## Manipulando (aula 70)"
      ],
      "metadata": {
        "id": "IwoEe1b5GJKq"
      }
    },
    {
      "cell_type": "code",
      "source": [
        "array = [10, 2, 3]\n",
        "\n",
        "#insere um novo valor ao final da lista\n",
        "array.append(2)\n",
        "print(\"Array com o 2 inserido ao final: %s \\n\" % array)\n",
        "\n",
        "#insere um novo valor em determinada posição\n",
        "array.insert(2, \"quatro\")\n",
        "print(\"Array com o \\'quatro\\' inserido na posição 2: %s \\n\" % array)\n",
        "\n",
        "#remove um valor pelo seu valor\n",
        "array.remove(10)\n",
        "print(\"Array com o 10 removido: %s \\n\" % array)\n",
        "\n",
        "#remove um valor pelo seu indice\n",
        "array.pop(2)\n",
        "print(\"Array com o 2 indice removido: %s \\n\" % array)\n",
        "\n",
        "#função len lê o comprimento do array\n",
        "print(\"Comprimento do array: %i \\n\" % len(array))\n",
        "\n",
        "#clear limpa o array\n",
        "array.clear()\n",
        "print(\"Array limpo: %s \\n\" % array)\n",
        "\n",
        "#Testar se elemento esta no array\n",
        "array = [1, 'teste', 2.3, False, 1]\n",
        "print(\"1 está no array?: %s \\n\" % (1 in array))\n",
        "\n",
        "print(\"False não está no array?: %s \\n\" % (False not in array))\n",
        "\n",
        "#Contar quantas vezes ocorre um va,lor no array\n",
        "teste = array.count(1)\n",
        "print(\"1 está no array quantas vezes?: %i \\n\" % teste)\n",
        "\n"
      ],
      "metadata": {
        "colab": {
          "base_uri": "https://localhost:8080/"
        },
        "id": "fDFZ61dUGnBi",
        "outputId": "21739756-a322-4ad0-a316-6db47aed58c1"
      },
      "execution_count": null,
      "outputs": [
        {
          "output_type": "stream",
          "name": "stdout",
          "text": [
            "Array com o 2 inserido ao final: [10, 2, 3, 2] \n",
            "\n",
            "Array com o 'quatro' inserido na posição 2: [10, 2, 'quatro', 3, 2] \n",
            "\n",
            "Array com o 10 removido: [2, 'quatro', 3, 2] \n",
            "\n",
            "Array com o 2 indice removido: [2, 'quatro', 2] \n",
            "\n",
            "Comprimento do array: 3 \n",
            "\n",
            "Array limpo: [] \n",
            "\n",
            "1 está no array?: True \n",
            "\n",
            "False não está no array?: False \n",
            "\n",
            "1 está no array quantas vezes?: 2 \n",
            "\n"
          ]
        }
      ]
    },
    {
      "cell_type": "code",
      "source": [],
      "metadata": {
        "id": "nfK2X_cNKhss"
      },
      "execution_count": null,
      "outputs": []
    },
    {
      "cell_type": "markdown",
      "source": [
        "## Operações (soma, mult e distribuição)"
      ],
      "metadata": {
        "id": "L8-wOBn3NwvO"
      }
    },
    {
      "cell_type": "code",
      "source": [
        "lista1 = [1,2,3]\n",
        "lista2 = [3,4,5]\n",
        "\n",
        "#somar arrays\n",
        "soma   = lista1 + lista2\n",
        "print(\"Arrays somados: %s \\n\" % soma)\n",
        "\n",
        "#somar arrays\n",
        "mult   = lista1 * 3\n",
        "print(\"Array 1 repetido 3 vezes: %s \\n\" % mult)\n",
        "\n",
        "#atribuir cada elemento a uma variável\n",
        "numeros = [\"um\", \"dois\", \"três\"]\n",
        "x,y,z = numeros\n",
        "print(\"Variável x: %s \" % x)\n",
        "print(\"Variável y: %s \" % y)\n",
        "print(\"Variável z: %s \" % z)\n"
      ],
      "metadata": {
        "colab": {
          "base_uri": "https://localhost:8080/"
        },
        "id": "aVog6iUoN3Bs",
        "outputId": "abe7be2f-70a4-451a-e3bb-6f3b0dc96d1f"
      },
      "execution_count": null,
      "outputs": [
        {
          "output_type": "stream",
          "name": "stdout",
          "text": [
            "Arrays somados: [1, 2, 3, 3, 4, 5] \n",
            "\n",
            "Array 1 repetido 3 vezes: [1, 2, 3, 1, 2, 3, 1, 2, 3] \n",
            "\n",
            "Variável x: um \n",
            "Variável y: dois \n",
            "Variável z: três \n"
          ]
        }
      ]
    },
    {
      "cell_type": "markdown",
      "source": [
        "##Percorrer"
      ],
      "metadata": {
        "id": "i1c6utilPHWd"
      }
    },
    {
      "cell_type": "code",
      "source": [
        "cores = [\"azul\", \"preto\", \"amarelo\"]\n",
        "\n",
        "for x in cores:\n",
        "  print(x)"
      ],
      "metadata": {
        "colab": {
          "base_uri": "https://localhost:8080/"
        },
        "id": "oO2jvefuPKvW",
        "outputId": "97669209-9cb9-4b5a-8ecd-170f1a06f3d7"
      },
      "execution_count": null,
      "outputs": [
        {
          "output_type": "stream",
          "name": "stdout",
          "text": [
            "azul\n",
            "preto\n",
            "amarelo\n"
          ]
        }
      ]
    },
    {
      "cell_type": "markdown",
      "source": [
        "##Matriz (lista com listas)"
      ],
      "metadata": {
        "id": "3X_DxdgfQYAk"
      }
    },
    {
      "cell_type": "code",
      "source": [
        "lista = [[1,2,3] , [3,4,5]]\n",
        "\n",
        "lista1 = lista[0]\n",
        "lista2 = lista[1]\n",
        "\n",
        "print(\"Primeira lista: %s\" % lista1)\n",
        "print(\"Segunda  lista: %s \\n\" % lista2)\n",
        "\n",
        "primeiro_elemento_primeira_lista = lista[0][0]\n",
        "print(\"Primeiro elemento da primeira lista: %s\" % primeiro_elemento_primeira_lista)\n"
      ],
      "metadata": {
        "colab": {
          "base_uri": "https://localhost:8080/"
        },
        "id": "keBOgOadQnJw",
        "outputId": "22f48fd0-8992-449d-ddcb-73da2c3576a2"
      },
      "execution_count": null,
      "outputs": [
        {
          "output_type": "stream",
          "name": "stdout",
          "text": [
            "Primeira lista: [1, 2, 3]\n",
            "Segunda  lista: [3, 4, 5] \n",
            "\n",
            "Primeiro elemento da primeira lista: 1\n"
          ]
        }
      ]
    },
    {
      "cell_type": "markdown",
      "source": [
        "## Set"
      ],
      "metadata": {
        "id": "-dA0p5yBbeEC"
      }
    },
    {
      "cell_type": "code",
      "source": [
        "lista_set  = {}\n",
        "lista2_set = {1, 2, 3}\n",
        "lista3_set = set({4,5, 6})\n",
        "\n",
        "lista2_set.add(5)    #adiciona um valor ao set\n",
        "lista2_set.remove(1) #remove um valor do set\n",
        "print(lista_set)\n",
        "print(lista2_set)\n",
        "print(lista3_set)\n",
        "\n",
        "lista_union = lista2_set.union(lista3_set)\n",
        "print(\"\\n União = %s \\n\" % lista_union)\n",
        "\n",
        "lista_intersection = lista2_set.intersection(lista3_set)\n",
        "print(\"\\n Interseção = %s \\n\" % lista_intersection)\n",
        "\n",
        "lista_dif = lista2_set.difference(lista3_set)\n",
        "print(\"\\n Diferença = %s \\n\" % lista_dif)\n",
        "\n",
        "c = 0\n",
        "for i in lista3_set:\n",
        "  print(\" Elemento posição %i = %s \" % (c, i))\n",
        "  c+= 1\n",
        "\n"
      ],
      "metadata": {
        "colab": {
          "base_uri": "https://localhost:8080/"
        },
        "id": "7OWrunVfbn-0",
        "outputId": "7a234add-292e-497f-df6b-6810f5bbe158"
      },
      "execution_count": null,
      "outputs": [
        {
          "output_type": "stream",
          "name": "stdout",
          "text": [
            "{}\n",
            "{2, 3, 5}\n",
            "{4, 5, 6}\n",
            "\n",
            " União = {2, 3, 4, 5, 6} \n",
            "\n",
            "\n",
            " Interseção = {5} \n",
            "\n",
            "\n",
            " Diferença = {2, 3} \n",
            "\n",
            " Elemento posição 0 = 4 \n",
            " Elemento posição 1 = 5 \n",
            " Elemento posição 2 = 6 \n"
          ]
        }
      ]
    },
    {
      "cell_type": "markdown",
      "source": [
        "##Tuple\n",
        "tipo de lista que não pode ser modificada, nº fixo de elementos, e tem uma ordem definida"
      ],
      "metadata": {
        "id": "dzNj3S374UIm"
      }
    },
    {
      "cell_type": "code",
      "source": [
        "doces = ((\"chocolate\", \"bom bom\", \"paçoca\", \"confete\", \"brigadeiro\"))\n",
        "print(doces)\n",
        "print(\"posição 2: %s\" % doces[2])\n",
        "sub_tupla = doces[1:3]\n",
        "print(sub_tupla)\n"
      ],
      "metadata": {
        "colab": {
          "base_uri": "https://localhost:8080/"
        },
        "id": "_Sfgh8Xg4WVZ",
        "outputId": "a7691725-0a70-45f8-d600-f5d4292f8f3a"
      },
      "execution_count": null,
      "outputs": [
        {
          "output_type": "stream",
          "name": "stdout",
          "text": [
            "('chocolate', 'bom bom', 'paçoca', 'confete', 'brigadeiro')\n",
            "posição 2: paçoca\n",
            "('bom bom', 'paçoca')\n"
          ]
        }
      ]
    },
    {
      "cell_type": "markdown",
      "source": [
        "##Dictionaries\n",
        "lista que o indice e o valor sao definidos, formado por um conjunto chave/valor"
      ],
      "metadata": {
        "id": "gODWDHCP6_X_"
      }
    },
    {
      "cell_type": "code",
      "source": [
        "#nesse caso, ana tem 10 anos, isaac 20 e etc\n",
        "idades = {'ana':10 , 'isaac': 20 , 'joão':34 , 'fernando':'indefinido'}\n",
        "#print(idades)\n",
        "print(\"Idade de Isaac %s\" % idades['isaac'])\n",
        "\n",
        "#metodo get\n",
        "idades.get('joão')\n",
        "\n",
        "#atualizar, ambos os metodos abaixo servem para atualizar um registro\n",
        "idades['ana'] = 47\n",
        "idades.update({'fernando':55})\n",
        "#print(idades)\n",
        "\n",
        "#remover\n",
        "idades.pop('fernando')\n",
        "\n",
        "idades.popitem() #remove o ultimo item\n",
        "\n",
        "#adicionar\n",
        "idades['marcos'] = 22 #adiciona ao final\n",
        "\n",
        "#limpar\n",
        "idades.clear()\n",
        "\n"
      ],
      "metadata": {
        "colab": {
          "base_uri": "https://localhost:8080/"
        },
        "id": "_tqvJitB7Pul",
        "outputId": "83c74635-fba6-4cf8-e052-d4e88daec2be"
      },
      "execution_count": null,
      "outputs": [
        {
          "output_type": "stream",
          "name": "stdout",
          "text": [
            "Idade de Isaac 20\n",
            "[0, 1, 2, 3, 4, 5, 6, 7, 8, 9]\n"
          ]
        }
      ]
    },
    {
      "cell_type": "markdown",
      "source": [
        "Populando lista com for"
      ],
      "metadata": {
        "id": "wH_l2aPRNCe6"
      }
    },
    {
      "cell_type": "code",
      "source": [
        "lista = [x for x in range(0,10)]\n",
        "print(lista)\n",
        "\n",
        "lista = [x for x in range(-10,20) if x < 10 if x > -5]\n",
        "print(lista)"
      ],
      "metadata": {
        "colab": {
          "base_uri": "https://localhost:8080/"
        },
        "id": "B0H9h96xNGVg",
        "outputId": "446a545d-8aa4-4b82-f5e2-d3bb88b58815"
      },
      "execution_count": null,
      "outputs": [
        {
          "output_type": "stream",
          "name": "stdout",
          "text": [
            "[0, 1, 2, 3, 4, 5, 6, 7, 8, 9]\n",
            "[-4, -3, -2, -1, 0, 1, 2, 3, 4, 5, 6, 7, 8, 9]\n"
          ]
        }
      ]
    },
    {
      "cell_type": "markdown",
      "source": [
        "## Exercícios"
      ],
      "metadata": {
        "id": "r7NhBWZ785e3"
      }
    },
    {
      "cell_type": "markdown",
      "source": [],
      "metadata": {
        "id": "oDnTd7aiC2Ic"
      }
    },
    {
      "cell_type": "markdown",
      "source": [
        "Criando uma lista com os numeros 1,10,6,7,8,10 e somando esses numeros"
      ],
      "metadata": {
        "id": "8NgvFtdd8Gu1"
      }
    },
    {
      "cell_type": "code",
      "source": [
        "aList = [1,10,6,7,8,10]\n",
        "\n",
        "soma = 0\n",
        "\n",
        "for i in aList:\n",
        "  soma += i\n",
        "\n",
        "print(\"A soma dos numeros da lista é: %i\" % soma)\n"
      ],
      "metadata": {
        "id": "qLIgbi8W8O9a"
      },
      "execution_count": null,
      "outputs": []
    },
    {
      "cell_type": "markdown",
      "source": [
        "Crie uma lista com numeros de 1 a 100 e printe esses valores"
      ],
      "metadata": {
        "id": "WMJAYbn283vN"
      }
    },
    {
      "cell_type": "code",
      "source": [
        "aList = [x for x in range(0,100)]\n",
        "\n",
        "for i in aList:\n",
        "  print(\"%i\" % i)\n"
      ],
      "metadata": {
        "id": "ufrMUCBr9FEP"
      },
      "execution_count": null,
      "outputs": []
    },
    {
      "cell_type": "markdown",
      "source": [
        "Crie duas listas com os valores definidos e faça a junção dessas listas, sem valores repetidos"
      ],
      "metadata": {
        "id": "5S7wS1TD89V9"
      }
    },
    {
      "cell_type": "code",
      "source": [
        "aList1 = {30,4,43,52,65,-10}\n",
        "aList2 = {43,2,4,76,32,65,3}\n",
        "\n",
        "aListFinal = aList1.union(aList2)\n",
        "\n",
        "print(aListFinal)\n"
      ],
      "metadata": {
        "id": "ssrC_JSO9YTG"
      },
      "execution_count": null,
      "outputs": []
    },
    {
      "cell_type": "markdown",
      "source": [
        "Crie uma lista com todos os meses do ano, receba por input o mes que voce nasceu e imprima o nome do mes"
      ],
      "metadata": {
        "id": "jbCQ2XcI-Rqs"
      }
    },
    {
      "cell_type": "code",
      "source": [
        "aMeses = ('Janeiro', 'Fevereiro', 'Março','Abril','Maio','Junho', 'Julho', 'Agosto', 'Setembro', 'Outubro', 'Novembro', 'Dezembro')\n",
        "\n",
        "iMes = int(input('Digite qual número do mês em que voce nasceu: '))\n",
        "\n",
        "print(\"Você nasceu no mês %s\" % aMeses[iMes-1])"
      ],
      "metadata": {
        "colab": {
          "base_uri": "https://localhost:8080/"
        },
        "id": "p7ZxHmWJ-a11",
        "outputId": "17ba0cc2-bf8a-40d9-ce2f-0cf25069f3c8"
      },
      "execution_count": null,
      "outputs": [
        {
          "output_type": "stream",
          "name": "stdout",
          "text": [
            "Digite qual número do mês em que voce nasceu: 6\n",
            "Você nasceu no mês Junho\n"
          ]
        }
      ]
    },
    {
      "cell_type": "markdown",
      "source": [],
      "metadata": {
        "id": "iOSEynCABkBO"
      }
    },
    {
      "cell_type": "markdown",
      "source": [
        "# FUNÇÕES"
      ],
      "metadata": {
        "id": "P_NWGo6OCvic"
      }
    },
    {
      "cell_type": "markdown",
      "source": [],
      "metadata": {
        "id": "1_bBYdguDL4O"
      }
    },
    {
      "cell_type": "code",
      "source": [
        "def ola(nome):\n",
        "  print('Olá %s' % nome)\n",
        "\n",
        "ola('Isaac')"
      ],
      "metadata": {
        "id": "HrKuP6r4I4iN"
      },
      "execution_count": null,
      "outputs": []
    },
    {
      "cell_type": "markdown",
      "source": [
        "## Funções Lambda\n",
        "Funções anônimas, que serão utilizadas apenas uma vez"
      ],
      "metadata": {
        "id": "o-PmlbctJB5G"
      }
    },
    {
      "cell_type": "code",
      "source": [
        "somar = lambda x,y : x + y\n",
        "\n",
        "valor = somar(1,5)\n",
        "\n",
        "print(valor)"
      ],
      "metadata": {
        "id": "Au2TX50QJEoF"
      },
      "execution_count": null,
      "outputs": []
    },
    {
      "cell_type": "markdown",
      "source": [
        "##Exercícios"
      ],
      "metadata": {
        "id": "QUprvUmWz9bx"
      }
    },
    {
      "cell_type": "markdown",
      "source": [
        "Crie uma função que receba uma lista de elementos e um valor qualquer. Em seguida retorne um booleano dizendo se o valor foi ou não encontrado na lista\n"
      ],
      "metadata": {
        "id": "ygFsKzl00DvR"
      }
    },
    {
      "cell_type": "code",
      "source": [
        "def busca(lista, valor):\n",
        "  for i in lista:\n",
        "    if(i == valor):\n",
        "      return  True\n",
        "  return  False\n",
        "\n",
        "\n",
        "\n",
        "lista = [1,4,6,8,9,12,19]\n",
        "valor = int(input('Digite um valor para buscar na lista: '))\n",
        "\n",
        "print(busca(lista, valor))\n"
      ],
      "metadata": {
        "id": "Ueen7UoAz8mR"
      },
      "execution_count": null,
      "outputs": []
    },
    {
      "cell_type": "markdown",
      "source": [
        "Crie uma função que receba um número arbitrário de parâmetros e diga qual o tipo de cada parametro"
      ],
      "metadata": {
        "id": "C_UbJe6i1m7Y"
      }
    },
    {
      "cell_type": "code",
      "source": [
        "def mostraTipo(*args):\n",
        "  for i in args:\n",
        "    print(type(i))\n",
        "\n",
        "mostraTipo(1,7,12,'teste', [4,5,6], False);"
      ],
      "metadata": {
        "id": "UUlnkyUN1vff"
      },
      "execution_count": null,
      "outputs": []
    },
    {
      "cell_type": "markdown",
      "source": [
        "Crie uma função recursiva que itere os numeros de 0 ate 10 e printe o resultado de usa divisão inteira com o número 3"
      ],
      "metadata": {
        "id": "p4B3y-8o2MIQ"
      }
    },
    {
      "cell_type": "code",
      "source": [
        "def printaDivisao3(num):\n",
        "\n",
        "  if num >= 11:\n",
        "    return\n",
        "\n",
        "  print(num // 3)\n",
        "  printaDivisao3(num+1)\n",
        "\n",
        "\n",
        "printaDivisao3(0)"
      ],
      "metadata": {
        "id": "77AZUTcV2Upr"
      },
      "execution_count": null,
      "outputs": []
    },
    {
      "cell_type": "markdown",
      "source": [
        "# FUNÇÕES PRONTAS"
      ],
      "metadata": {
        "id": "fCw9TXhyDAjd"
      }
    },
    {
      "cell_type": "markdown",
      "source": [
        "##Abs\n",
        "Pega o valor absoluto do número"
      ],
      "metadata": {
        "id": "oeXa7fI9DOUR"
      }
    },
    {
      "cell_type": "code",
      "source": [
        "num1 = 10\n",
        "num2 = -20\n",
        "\n",
        "print(abs(num1))\n",
        "print(abs(num2))\n",
        "\n",
        "print(abs(num1) + abs(num2))"
      ],
      "metadata": {
        "id": "70UEIkSBFa7X"
      },
      "execution_count": null,
      "outputs": []
    },
    {
      "cell_type": "markdown",
      "source": [
        "##Max e Min\n",
        "Pega o valor máximo dentre alguns valores ou uma lista"
      ],
      "metadata": {
        "id": "kV0XXVKBGCRO"
      }
    },
    {
      "cell_type": "code",
      "source": [
        "lista = [-20,1,2,5]\n",
        "print(max(lista))\n",
        "\n",
        "stringLista = (-20,1,2,5)\n",
        "print(min(stringLista))"
      ],
      "metadata": {
        "id": "uELtb0LuGKiL"
      },
      "execution_count": null,
      "outputs": []
    },
    {
      "cell_type": "markdown",
      "source": [
        "##Potência\n",
        "Eleva um número a outro, exemplo:\n",
        "2 elevado a 3"
      ],
      "metadata": {
        "id": "du759jE5GssL"
      }
    },
    {
      "cell_type": "code",
      "source": [
        "print(pow(2,3))"
      ],
      "metadata": {
        "colab": {
          "base_uri": "https://localhost:8080/"
        },
        "id": "sJa-tAt9G0T5",
        "outputId": "ed87f1d5-2ee6-49d8-83bd-16d972624a13"
      },
      "execution_count": null,
      "outputs": [
        {
          "output_type": "stream",
          "name": "stdout",
          "text": [
            "8\n"
          ]
        }
      ]
    },
    {
      "cell_type": "markdown",
      "source": [],
      "metadata": {
        "id": "1fexSEG4L04a"
      }
    },
    {
      "cell_type": "markdown",
      "source": [
        "#ORIENTAÇÃO A OBJETOS"
      ],
      "metadata": {
        "id": "HUgJRQPoWPhj"
      }
    },
    {
      "cell_type": "markdown",
      "source": [
        "\n",
        "*   **__init__** : é o construtor da instancia\n",
        "*   **self**: é a variável da instancia que está sendo utilizada, não precisa ser passada no parâmetro mas precisa ser recebida\n",
        "*   \n",
        "\n",
        "\n"
      ],
      "metadata": {
        "id": "mXaZ6ZvTXcl0"
      }
    },
    {
      "cell_type": "code",
      "source": [
        "class Pessoa:\n",
        "  especie = \"Homo Sapiens\"\n",
        "  num_pessoas = 0\n",
        "\n",
        "  def __init__(self, nome, idade):\n",
        "    self.nome = nome\n",
        "    self.idade = idade\n",
        "    Pessoa.num_pessoas += 1\n",
        "\n",
        "  def exibeNome(self):\n",
        "    print(\"Meu nome é %s \" % (self.nome))\n",
        "\n",
        "pessoa1 = Pessoa('Rodrigo', 34)\n",
        "pessoa2 = Pessoa('Maria', 20)\n",
        "pessoa3 = Pessoa('Carlos', 12)\n",
        "\n",
        "pessoa1.exibeNome()\n"
      ],
      "metadata": {
        "id": "S3yzGFd2WhBt"
      },
      "execution_count": null,
      "outputs": []
    },
    {
      "cell_type": "markdown",
      "source": [
        "##Herança"
      ],
      "metadata": {
        "id": "iwvM0NNXms6p"
      }
    },
    {
      "cell_type": "markdown",
      "source": [
        "no exemplo, as classes Quadrado e Triangulo vao herdar da classe FormaGeometrica"
      ],
      "metadata": {
        "id": "PbnJfBicmyBw"
      }
    },
    {
      "cell_type": "code",
      "source": [
        "class FormaGeometrica:\n",
        "  def __init__(self, altura, largura):\n",
        "    self.altura  = altura\n",
        "    self.largura = largura\n",
        "\n",
        "  def funcaoHerdada(self):\n",
        "    print(\"Sou herdado\")\n",
        "\n",
        "class Quadrado(FormaGeometrica):\n",
        "  pass\n",
        "\n",
        "class Triangulo(FormaGeometrica):\n",
        "  pass\n",
        "\n",
        "quadrado  = Quadrado(100,50)\n",
        "triangulo = Triangulo(10,30)\n",
        "\n",
        "print(quadrado.funcaoHerdada())\n",
        "print(triangulo.altura)\n",
        "print(triangulo.largura)\n"
      ],
      "metadata": {
        "colab": {
          "base_uri": "https://localhost:8080/"
        },
        "id": "EJx6oTpMmxCH",
        "outputId": "472b2833-0f9a-4ae4-85a6-46f10389f036"
      },
      "execution_count": 8,
      "outputs": [
        {
          "output_type": "stream",
          "name": "stdout",
          "text": [
            "Sou herdado\n",
            "None\n",
            "10\n",
            "30\n"
          ]
        }
      ]
    }
  ]
}